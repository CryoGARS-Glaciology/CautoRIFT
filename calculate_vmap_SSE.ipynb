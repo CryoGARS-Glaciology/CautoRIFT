{
 "cells": [
  {
   "cell_type": "markdown",
   "id": "0b263ea4",
   "metadata": {},
   "source": [
    "# Calculate velocity errors over stable surfaces (Stable Surface Error) for all velocity maps in a folder\n",
    "\n",
    "Generates a table with all velocity map parameters, including the stable surface error."
   ]
  },
  {
   "cell_type": "code",
   "execution_count": null,
   "id": "bd3d0795",
   "metadata": {},
   "outputs": [],
   "source": [
    "import numpy as np\n",
    "import pandas as pd\n",
    "import os\n",
    "import matplotlib.pyplot as plt\n",
    "import datetime\n",
    "import fiona\n",
    "import rasterio as rio\n",
    "from rasterio.mask import mask\n",
    "from shapely.geometry import mapping"
   ]
  },
  {
   "cell_type": "markdown",
   "id": "4049b89a",
   "metadata": {},
   "source": [
    "### Set paths to velocity maps, the stable surface masks (ssm), and a glacier shapefile (UTM projection)"
   ]
  },
  {
   "cell_type": "code",
   "execution_count": null,
   "id": "c1beca0e",
   "metadata": {},
   "outputs": [],
   "source": [
    "# path to autorift velocity maps:\n",
    "autorift_outp = '/Users/jukesliu/Documents/TURNER/DATA/VELOCITY_MAPS/output_AutoRIFT/'\n",
    "\n",
    "# set path to folder with the stable surface mask (should have been generated when running custom autoRIFT)\n",
    "# contains files named ssm_#m.tif\n",
    "refvpath = '/Users/jukesliu/Documents/TURNER/DATA/VELOCITY_MAPS/forAutoRIFT/'\n",
    "print(os.listdir(refvpath))\n",
    "\n",
    "# read in glacier shapefile and grab outline as shapes\n",
    "shp_path = '/Users/jukesliu/Documents/TURNER/DATA/shapefiles_gis/Turner_RGI/TG_glims_polygon_UTM7.shp'\n",
    "with fiona.open(shp_path) as shapefile:\n",
    "    shapes = [feature[\"geometry\"] for feature in shapefile]"
   ]
  },
  {
   "cell_type": "markdown",
   "id": "1622cd3c",
   "metadata": {},
   "source": [
    "### Grab important information and Stable Surface Error (SSE) from each velocity map"
   ]
  },
  {
   "cell_type": "code",
   "execution_count": null,
   "id": "b6d63ed8",
   "metadata": {
    "scrolled": true
   },
   "outputs": [],
   "source": [
    "# initialize lists to store info for each velocity map\n",
    "ds1s = []; ds2s = []; dts = []; chipsizes = []; sats = []; data_fracs = []; err_vx = []; err_vy = []; err_v = []; \n",
    "file_count = 0\n",
    "\n",
    "# for each velocity map\n",
    "for output in os.listdir(autorift_outp):\n",
    "    if output.startswith('velocity') and output.endswith('.tif'):\n",
    "        print(output) # display file names\n",
    "        [filetype, ds1, ds2, chipsize, sat] = output.split('_') # grab info from filename\n",
    "        d1 = datetime.datetime.strptime(ds1, '%Y%m%d'); d2 = datetime.datetime.strptime(ds2, '%Y%m%d')\n",
    "        dt = d2-d1\n",
    "        sat = sat.split('.')[0] # s\n",
    "        ds1s.append(ds1); ds2s.append(ds2); dts.append(dt.days)\n",
    "        chipsizes.append(int(chipsize[:-1])); sats.append(sat)\n",
    "        \n",
    "        # read in the velocity map\n",
    "        v_reader = rio.open(autorift_outp+output)\n",
    "        vx = v_reader.read(1); vy = v_reader.read(2) # grab vx and vy\n",
    "        v = np.sqrt(vx**2 + vy**2) # calculate vmag from vx and vy\n",
    "        # raster grid value (UTM coordinates)\n",
    "        x_vals = np.arange(v_reader.bounds.left, v_reader.bounds.right+1, v_reader.transform[0])\n",
    "        y_vals = np.arange(v_reader.bounds.bottom, v_reader.bounds.top+1, v_reader.transform[0])\n",
    "        \n",
    "        # Read in stable surface mask\n",
    "        ssm_reader = rio.open(refvpath+'ssm_'+chipsize+'.tif') # stable surface mask\n",
    "        ssm = ssm_reader.read(1)\n",
    "        if ssm.shape != vx.shape:\n",
    "            ssm = ssm[:vx.shape[0],:vx.shape[1]]\n",
    "        \n",
    "        # grab data fraction in glacier outline\n",
    "        cropped_img, cropped_transform = mask(v_reader, shapes, nodata= -3e5, crop=True)\n",
    "        if cropped_img.shape[0] == 3:\n",
    "            cropped_v = cropped_img[2] # grab the third band [2]\n",
    "        else:\n",
    "            cropped_vx = cropped_img[0]; cropped_vy = cropped_img[1]\n",
    "            cropped_v = np.sqrt(cropped_vx**2 + cropped_vy**2) \n",
    "        cropped_v_filled = cropped_v.copy()\n",
    "        cropped_v_filled[np.isnan(cropped_v_filled)] = 0 # fill all Nans with 0\n",
    "        total_pixels = np.count_nonzero(cropped_v_filled >= 0) # count number of non-nodata values (negative)\n",
    "        cropped_v[cropped_v < 0] = np.NaN # turn no data values (negative) into NaNs\n",
    "        pixels_w_data = len(cropped_v[cropped_v >= 0]) # count non Nans (number of pixels with data)\n",
    "        if pixels_w_data > 0:\n",
    "            data_percent = int(pixels_w_data/total_pixels*100)\n",
    "            data_fracs.append(data_percent)\n",
    "            empty = False\n",
    "        else:\n",
    "            data_fracs.append(0)\n",
    "            empty = True\n",
    "#         plt.imshow(cropped_v); plt.colorbar(); plt.title(str(data_percent)+' %'); plt.show() # check visually\n",
    "            \n",
    "        # Grab off-ice velocities using stable surface mask\n",
    "        ssm[ssm > 0] = 2 # turn ice into 2\n",
    "        ssm[ssm == 0] = 1 # turn stable surfaces into 1\n",
    "        ssm[ssm == 2] = 0 # turn ice into 0s\n",
    "        ssm_masked_vx = ssm*vx; ssm_masked_vy = ssm*vy; ssm_masked_v = ssm*v \n",
    "        \n",
    "        # calculate RMSE [m/d]\n",
    "        err_vx.append(np.sqrt(np.nanmean(ssm_masked_vx**2))/365)\n",
    "        err_vy.append(np.sqrt(np.nanmean(ssm_masked_vy**2))/365)\n",
    "        err_v.append(np.sqrt(np.nanmean(ssm_masked_v**2))/365)\n",
    "        \n",
    "        # get ready for next iteration\n",
    "        del v, vx, vy, empty\n",
    "        file_count += 1\n",
    "        \n",
    "print(file_count, 'files found.')"
   ]
  },
  {
   "cell_type": "code",
   "execution_count": null,
   "id": "063a4613",
   "metadata": {},
   "outputs": [],
   "source": [
    "df = pd.DataFrame(list(zip(ds1s, ds2s, chipsizes, sats, dts, data_fracs, err_vx, err_vy, err_v)),\n",
    "                 columns=['ds1','ds2','min_chip_size','sat','dt_days','data_percent',\n",
    "                          'err_vx','err_vy','err_v'])\n",
    "df.sort_values(by=['ds1','min_chip_size','sat'])\n",
    "df"
   ]
  },
  {
   "cell_type": "code",
   "execution_count": null,
   "id": "ac6c737f",
   "metadata": {},
   "outputs": [],
   "source": [
    "# convert dates to datetime objects\n",
    "df.ds1 = pd.to_datetime(df.ds1, format='%Y%m%d')\n",
    "df.ds2 = pd.to_datetime(df.ds2, format='%Y%m%d')\n",
    "df['mid_date'] = (df.ds2-df.ds1)/2+df.ds1\n",
    "df"
   ]
  },
  {
   "cell_type": "markdown",
   "id": "3f44698f",
   "metadata": {},
   "source": [
    "### Export CSV to a file"
   ]
  },
  {
   "cell_type": "code",
   "execution_count": null,
   "id": "12934496",
   "metadata": {},
   "outputs": [],
   "source": [
    "outfilepath = 'TableS1_autorift_vmap_parameters_SK.csv' # enter path and name of CSV file to save to\n",
    "df.to_csv(outfilepath)"
   ]
  },
  {
   "cell_type": "markdown",
   "id": "31049421",
   "metadata": {},
   "source": [
    "## Plot errors"
   ]
  },
  {
   "cell_type": "code",
   "execution_count": null,
   "id": "b7af5d29",
   "metadata": {},
   "outputs": [],
   "source": [
    "# create subplots with common y-axis\n",
    "fs = 12\n",
    "a = 0.3 # control opacity\n",
    "colors_dict = {'LS':'tab:blue', 'S2':'tab:orange', 'S1':'tab:green', 'PS':'tab:red'}\n",
    "fig, (ax1, ax2, ax3) = plt.subplots(1,3,figsize=(14,8), sharey=True)\n",
    "\n",
    "# 1) plot velocity residuals over stable surfaces\n",
    "ax1.set_title(\"Velocity over stable surfaces\", fontsize=fs)\n",
    "ax1.plot(df.err_vx,df.mid_date, 'kx', alpha=a)\n",
    "ax1.plot(df.err_vy,df.mid_date, 'gx', alpha=a)\n",
    "ax1.set_xlim(0, 4)\n",
    "ax1.set_xlabel('RMSE [m/d]', fontsize=fs); ax1.set_ylabel('Velocity map mid date', fontsize=fs);\n",
    "ax1.legend(['X error','Y error'], loc='lower right', fontsize=fs)\n",
    "\n",
    "# 2) plot speed residual of stable surfaces (scaled by max speed)\n",
    "ax2.set_title(\"Speed error\", fontsize=fs)\n",
    "ax2.scatter(df.err_v, df.mid_date, c=df.sat.map(colors_dict), alpha=a) # color points by satellite (see colors dict)\n",
    "ax2.set_xlim(0,4)\n",
    "ax2.set_xlabel('RMSE [m/d]', fontsize=fs);\n",
    "\n",
    "# 3) percent coverage on glacier\n",
    "ax3.set_title(\"Data coverage\")\n",
    "ax3.hlines(df.mid_date, np.zeros(len(df.data_percent)),df.data_percent, color='k',alpha=a)\n",
    "ax3.set_xlabel('Pixels with data on glacier [%]', fontsize=fs)\n",
    "ax3.set_xlim(0,100)\n",
    "\n",
    "# all plots\n",
    "for ax in [ax1, ax2, ax3]:\n",
    "    ax.tick_params(labelsize=fs)\n",
    "    ax.grid()\n",
    "    ax.set_ylim(datetime.datetime(2013,1,1), datetime.datetime(2022,1,1))\n",
    "\n",
    "plt.suptitle('Summary of velocity map errors and coverage', fontsize=fs+4)\n",
    "plt.show()"
   ]
  },
  {
   "cell_type": "code",
   "execution_count": null,
   "id": "171b7172",
   "metadata": {},
   "outputs": [],
   "source": []
  }
 ],
 "metadata": {
  "kernelspec": {
   "display_name": "Python 3",
   "language": "python",
   "name": "python3"
  },
  "language_info": {
   "codemirror_mode": {
    "name": "ipython",
    "version": 3
   },
   "file_extension": ".py",
   "mimetype": "text/x-python",
   "name": "python",
   "nbconvert_exporter": "python",
   "pygments_lexer": "ipython3",
   "version": "3.8.13"
  }
 },
 "nbformat": 4,
 "nbformat_minor": 5
}
