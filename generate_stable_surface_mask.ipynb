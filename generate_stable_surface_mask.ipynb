{
 "cells": [
  {
   "cell_type": "markdown",
   "id": "00eabab9",
   "metadata": {},
   "source": [
    "# Generates a stable surface mask from a glacier outline"
   ]
  },
  {
   "cell_type": "code",
   "execution_count": 25,
   "id": "86fb792a",
   "metadata": {},
   "outputs": [],
   "source": [
    "from osgeo import gdal\n",
    "import rasterio as rio\n",
    "from rasterio.plot import show\n",
    "import matplotlib.pyplot as plt\n",
    "import numpy as np\n",
    "import os"
   ]
  },
  {
   "cell_type": "code",
   "execution_count": 26,
   "id": "9538afe6",
   "metadata": {},
   "outputs": [],
   "source": [
    "# set output file name and path (ssm.tif)\n",
    "out_fn = '/Users/jukesliu/Documents/PLANETSCOPE_VELOCITIES/SR/ssm.tif'\n",
    "# out_fn = '/Volumes/LaCie/VG/VG_autorift_inputs/ssm.tif'"
   ]
  },
  {
   "cell_type": "markdown",
   "id": "6ad4b4db",
   "metadata": {},
   "source": [
    "## Option 1. If GDAL command line functionality installed:"
   ]
  },
  {
   "cell_type": "code",
   "execution_count": 27,
   "id": "36bc05af",
   "metadata": {},
   "outputs": [],
   "source": [
    "# open glacier outline hapefile\n",
    "shp_path = '/Users/jukesliu/Documents/PLANETSCOPE_VELOCITIES/SR/SR_polygon_UTM43.shp'\n",
    "source_ds = gdal.OpenEx(shp_path)\n",
    "\n",
    "# set pixel resolution and no data value\n",
    "res = 5 # meters\n",
    "NoData_value = 0"
   ]
  },
  {
   "cell_type": "code",
   "execution_count": 28,
   "id": "407aeed3",
   "metadata": {},
   "outputs": [
    {
     "name": "stdout",
     "output_type": "stream",
     "text": [
      "gdal_rasterize -tr 5 5 -burn 1 -init 0 /Users/jukesliu/Documents/PLANETSCOPE_VELOCITIES/SR/SR_polygon_UTM43.shp /Users/jukesliu/Documents/PLANETSCOPE_VELOCITIES/SR/ssm_uncropped.tif\n",
      "0...10...20...30...40...50...60...70...80...90...100 - done.\n"
     ]
    },
    {
     "data": {
      "text/plain": [
       "0"
      ]
     },
     "execution_count": 28,
     "metadata": {},
     "output_type": "execute_result"
    }
   ],
   "source": [
    "# rasterize\n",
    "print('gdal_rasterize -tr '+str(res)+' '+str(res)+' -burn 1 -init 0 '+shp_path+' '+out_fn[:-4]+'_uncropped.tif')\n",
    "os.system('gdal_rasterize -tr '+str(res)+' '+str(res)+' -burn 1 -init 0 '+shp_path+' '+out_fn[:-4]+'_uncropped.tif')"
   ]
  },
  {
   "cell_type": "markdown",
   "id": "35df9a2b",
   "metadata": {},
   "source": [
    "Then run the following printed command on terminal to crop:"
   ]
  },
  {
   "cell_type": "code",
   "execution_count": 29,
   "id": "d72a77b2",
   "metadata": {},
   "outputs": [
    {
     "name": "stdout",
     "output_type": "stream",
     "text": [
      "Creating output file that is 6198P x 4618L.\n",
      "Processing /Users/jukesliu/Documents/PLANETSCOPE_VELOCITIES/SR/ssm_uncropped.tif [1/1] : 0...10...20...30...40...50...60...70...80...90...100 - done.\n",
      "gdalwarp -cutline /Users/jukesliu/Documents/PLANETSCOPE_VELOCITIES/SR/SR_Box_WGS_UTM_43.shp -crop_to_cutline /Users/jukesliu/Documents/PLANETSCOPE_VELOCITIES/SR/ssm_uncropped.tif /Users/jukesliu/Documents/PLANETSCOPE_VELOCITIES/SR/ssm.tif\n"
     ]
    }
   ],
   "source": [
    "# crop to the Box extent\n",
    "crop_extent_shp = '/Users/jukesliu/Documents/PLANETSCOPE_VELOCITIES/SR/SR_Box_WGS_UTM_43.shp'\n",
    "# os.system('gdalwarp -cutline '+crop_extent_shp+' -crop_to_cutline '+out_fn+' '+out_fn[:-4]+'_clipped.tif')\n",
    "os.system('gdalwarp -cutline '+crop_extent_shp+' -crop_to_cutline '+out_fn[:-4]+'_uncropped.tif'+' '+out_fn)\n",
    "# print('gdalwarp -cutline '+crop_extent_shp+' -crop_to_cutline '+out_fn[:-4]+'_uncropped.tif'+' '+out_fn)"
   ]
  },
  {
   "cell_type": "code",
   "execution_count": 30,
   "id": "b4bbfc8d",
   "metadata": {},
   "outputs": [
    {
     "data": {
      "image/png": "[encoded data removed]",
      "text/plain": [
       "<Figure size 576x576 with 1 Axes>"
      ]
     },
     "metadata": {
      "needs_background": "light"
     },
     "output_type": "display_data"
    }
   ],
   "source": [
    "# read and plot to check\n",
    "src = rio.open(out_fn)\n",
    "fig, ax = plt.subplots(1, figsize=(8,8))\n",
    "im1 = show((src, 1), cmap='Greys_r', interpolation='none', ax=ax)\n",
    "plt.show()"
   ]
  },
  {
   "cell_type": "markdown",
   "id": "3e3437a3",
   "metadata": {},
   "source": [
    "## Option 2. Use gdal.rasterize (broken)"
   ]
  },
  {
   "cell_type": "code",
   "execution_count": 7,
   "id": "30613878",
   "metadata": {},
   "outputs": [],
   "source": [
    "# from rasterio import features\n",
    "# import geopandas as gpd"
   ]
  },
  {
   "cell_type": "code",
   "execution_count": 57,
   "id": "6c4277c9",
   "metadata": {},
   "outputs": [],
   "source": [
    "# # read in a reference raster to use as the CRS and extent\n",
    "# ref_reader = rio.open('/Users/jukesliu/Documents/TURNER/DATA/ICE_THICKNESS/Variegated/Nolan_ASTER_20070903_clipped.tif')\n",
    "# ref_reader"
   ]
  },
  {
   "cell_type": "code",
   "execution_count": 58,
   "id": "4a017ee6",
   "metadata": {},
   "outputs": [],
   "source": [
    "# ref_reader.meta"
   ]
  },
  {
   "cell_type": "code",
   "execution_count": 59,
   "id": "6bc35bd4",
   "metadata": {},
   "outputs": [],
   "source": [
    "# # read in glacier outline shapefile with geopandas\n",
    "# shp_path = '/Users/jukesliu/Documents/TURNER/DATA/shapefiles_gis/VG/Variegated_polygon_UTM07.shp'\n",
    "# shp = gpd.read_file(shp_path)\n",
    "# shp"
   ]
  },
  {
   "cell_type": "code",
   "execution_count": 16,
   "id": "0446f50b",
   "metadata": {},
   "outputs": [],
   "source": [
    "# # generate raster metadata file\n",
    "# out_meta = ref_reader.meta"
   ]
  },
  {
   "cell_type": "code",
   "execution_count": 17,
   "id": "5de274c4",
   "metadata": {},
   "outputs": [],
   "source": [
    "# # write out to filename\n",
    "# out_fn = '/Volumes/LaCie/VG/VG_autorift_inputs/ssm.tif'\n",
    "# with rio.open(out_fn, 'w+', **out_meta) as out:\n",
    "#     out_arr = out.read(1)\n",
    "\n",
    "#     # this is where we create a generator of geom, value pairs to use in rasterizing\n",
    "#     shapes = ((geom,value) for geom, value in zip(shp.geometry, [1]))\n",
    "\n",
    "#     burned = features.rasterize(shapes=shapes, fill=0, out=out_arr, transform=out.transform)\n",
    "#     out.write_band(1, burned)\n",
    "# print('Rasterization complete.')"
   ]
  },
  {
   "cell_type": "code",
   "execution_count": null,
   "id": "9fc5715b",
   "metadata": {},
   "outputs": [],
   "source": []
  }
 ],
 "metadata": {
  "kernelspec": {
   "display_name": "Python 3 (ipykernel)",
   "language": "python",
   "name": "python3"
  },
  "language_info": {
   "codemirror_mode": {
    "name": "ipython",
    "version": 3
   },
   "file_extension": ".py",
   "mimetype": "text/x-python",
   "name": "python",
   "nbconvert_exporter": "python",
   "pygments_lexer": "ipython3",
   "version": "3.9.6"
  }
 },
 "nbformat": 4,
 "nbformat_minor": 5
}
